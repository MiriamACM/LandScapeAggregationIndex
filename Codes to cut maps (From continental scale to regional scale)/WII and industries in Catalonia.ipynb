{
 "cells": [
  {
   "cell_type": "code",
   "execution_count": 1,
   "id": "f1bbc490",
   "metadata": {},
   "outputs": [],
   "source": [
    "import geopandas as gpd\n",
    "from shapely.geometry import polygon\n",
    "import matplotlib.pyplot as plt"
   ]
  },
  {
   "cell_type": "code",
   "execution_count": 5,
   "id": "d0c71217",
   "metadata": {},
   "outputs": [],
   "source": [
    "# The WII map is cut with the shape of Catalonia\n",
    "EU_WII_map = gpd.read_file(\"/home/coca/Maps_TFM/WII/WII-europe.geojson\")\n",
    "EU_WII_map_proj=EU_WII_map.to_crs(25831)\n",
    "cat_shape = gpd.read_file(\"/home/coca/Maps_TFM/WII/divisions-administratives-v2r1-catalunya-1000000-20220801.shp\")\n",
    "Cat_WII_map = EU_WII_map_proj.overlay(cat_shape, how ='intersection')\n",
    "Cat_WII_map.to_file(\"/home/coca/Maps_TFM/WII/CatWII.geojson\",driver='GeoJSON')"
   ]
  },
  {
   "cell_type": "code",
   "execution_count": 6,
   "id": "bc71bda6",
   "metadata": {},
   "outputs": [],
   "source": [
    "# The industries map is cut with the shape of Catalonia\n",
    "EU_Ind_map = gpd.read_file(\"/home/coca/Maps_TFM/WII/industrialZone_osmSource.geojson\")\n",
    "EU_Ind_map_proj=EU_Ind_map.to_crs(25831)\n",
    "cat_shape = gpd.read_file(\"/home/coca/Maps_TFM/WII/divisions-administratives-v2r1-catalunya-1000000-20220801.shp\")\n",
    "Cat_Industries = EU_Ind_map_proj.overlay(cat_shape, how ='intersection')\n",
    "Cat_Industries.to_file(\"/home/coca/Maps_TFM/WII/CatIndustries.geojson\",driver='GeoJSON')"
   ]
  }
 ],
 "metadata": {
  "kernelspec": {
   "display_name": "Python 3 (ipykernel)",
   "language": "python",
   "name": "python3"
  },
  "language_info": {
   "codemirror_mode": {
    "name": "ipython",
    "version": 3
   },
   "file_extension": ".py",
   "mimetype": "text/x-python",
   "name": "python",
   "nbconvert_exporter": "python",
   "pygments_lexer": "ipython3",
   "version": "3.9.16"
  }
 },
 "nbformat": 4,
 "nbformat_minor": 5
}
