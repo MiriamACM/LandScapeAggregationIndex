{
 "cells": [
  {
   "cell_type": "code",
   "execution_count": 1,
   "id": "956b7a46",
   "metadata": {},
   "outputs": [],
   "source": [
    "#In this notebook, the area covered by the wildland vegetation in raster and vector format are estimated, as well as\n",
    "#the area of WII in Catalonia and the area of the industrial installations in Catalonia."
   ]
  },
  {
   "cell_type": "code",
   "execution_count": 5,
   "id": "522a5b22",
   "metadata": {},
   "outputs": [],
   "source": [
    "import geopandas as gpd\n",
    "import pandas as pd"
   ]
  },
  {
   "cell_type": "code",
   "execution_count": 3,
   "id": "ea85242c",
   "metadata": {},
   "outputs": [
    {
     "data": {
      "text/plain": [
       "0.022878608729793568"
      ]
     },
     "execution_count": 3,
     "metadata": {},
     "output_type": "execute_result"
    }
   ],
   "source": [
    "# Here, the Area of the industrial zones in polygon format is calculated\n",
    "industries = gpd.read_file(\"/home/coca/Maps_TFM/CatIndustries.geojson\")\n",
    "industries['area_ha'].sum()/1000000 #Mha"
   ]
  },
  {
   "cell_type": "code",
   "execution_count": 4,
   "id": "fdc40729",
   "metadata": {},
   "outputs": [
    {
     "data": {
      "text/plain": [
       "0.18712105763752787"
      ]
     },
     "execution_count": 4,
     "metadata": {},
     "output_type": "execute_result"
    }
   ],
   "source": [
    "# Here, the Area of the WII in polygon format is calculated\n",
    "WII = gpd.read_file(\"/home/coca/Maps_TFM/CatWII.geojson\")\n",
    "WII['area_ha'].sum()/1000000 #Mha"
   ]
  },
  {
   "cell_type": "code",
   "execution_count": 6,
   "id": "8dc9ca72",
   "metadata": {},
   "outputs": [],
   "source": [
    "# Here, the data frames with the information of polygons of vegetation and patches of vegetation of each \n",
    "# fuel category is read\n",
    "\n",
    "AI_patch_poly_Fuel1 = pd.read_pickle(\"/home/coca/Maps_TFM/poly_patch/AIMW9_percentile_patch_poly_Fuel1.pkl\")\n",
    "AI_patch_poly_Fuel2 = pd.read_pickle(\"/home/coca/Maps_TFM/poly_patch/AIMW9_percentile_patch_poly_Fuel2.pkl\")\n",
    "AI_patch_poly_Fuel3 = pd.read_pickle(\"/home/coca/Maps_TFM/poly_patch/AIMW9_percentile_patch_poly_Fuel3.pkl\")\n",
    "AI_patch_poly_Fuel4 = pd.read_pickle(\"/home/coca/Maps_TFM/poly_patch/AIMW9_percentile_patch_poly_Fuel4.pkl\")\n",
    "AI_patch_poly_Fuel5 = pd.read_pickle(\"/home/coca/Maps_TFM/poly_patch/AIMW9_percentile_patch_poly_Fuel5.pkl\")"
   ]
  },
  {
   "cell_type": "code",
   "execution_count": 7,
   "id": "d523376e",
   "metadata": {},
   "outputs": [
    {
     "name": "stdout",
     "output_type": "stream",
     "text": [
      "Area covered by Fuel category 1: 695649 ha\n",
      "Area covered by Fuel category 2: 10184 ha\n",
      "Area covered by Fuel category 3: 924093 ha\n",
      "Area covered by Fuel category 4: 103791 ha\n",
      "Area covered by Fuel category 5: 754 ha\n",
      "The wildland area is: 1.734471 Mha\n"
     ]
    }
   ],
   "source": [
    "# Here, the area covered by patches of vegetation will be estimated per each Fuel catogery\n",
    "print('Area covered by Fuel category 1:',AI_patch_poly_Fuel1['Area_Ha (patch)'].sum(), 'ha')\n",
    "print('Area covered by Fuel category 2:',AI_patch_poly_Fuel2['Area_Ha (patch)'].sum(), 'ha')\n",
    "print('Area covered by Fuel category 3:',AI_patch_poly_Fuel3['Area_Ha (patch)'].sum(), 'ha')\n",
    "print('Area covered by Fuel category 4:',AI_patch_poly_Fuel4['Area_Ha (patch)'].sum(), 'ha')\n",
    "print('Area covered by Fuel category 5:',AI_patch_poly_Fuel5['Area_Ha (patch)'].sum(), 'ha')\n",
    "\n",
    "# Here, the wildland area is estimated as the sum of the area covered by the five fuels\n",
    "Wildland_patch = AI_patch_poly_Fuel1['Area_Ha (patch)'].sum() + AI_patch_poly_Fuel2['Area_Ha (patch)'].sum()+ AI_patch_poly_Fuel3['Area_Ha (patch)'].sum() + AI_patch_poly_Fuel4['Area_Ha (patch)'].sum() + AI_patch_poly_Fuel5['Area_Ha (patch)'].sum()\n",
    "print ('The wildland area is:', Wildland_patch/1000000, 'Mha')"
   ]
  },
  {
   "cell_type": "code",
   "execution_count": 8,
   "id": "ebe03ae5",
   "metadata": {},
   "outputs": [
    {
     "name": "stdout",
     "output_type": "stream",
     "text": [
      "Area covered by Fuel category 1: 752055.6702542168 ha\n",
      "Area covered by Fuel category 2: 12106.39386885634 ha\n",
      "Area covered by Fuel category 3: 987404.6193831562 ha\n",
      "Area covered by Fuel category 4: 115201.35357737986 ha\n",
      "Area covered by Fuel category 5: 819.180066339256 ha\n",
      "The wildland area is: 1.8675872171499486 Mha\n"
     ]
    }
   ],
   "source": [
    "# Here, the area covered by polygons of vegetation will be estimated per each Fuel catogery\n",
    "print('Area covered by Fuel category 1:',AI_patch_poly_Fuel1['Area_Ha'].sum(), 'ha')\n",
    "print('Area covered by Fuel category 2:',AI_patch_poly_Fuel2['Area_Ha'].sum(), 'ha')\n",
    "print('Area covered by Fuel category 3:',AI_patch_poly_Fuel3['Area_Ha'].sum(), 'ha')\n",
    "print('Area covered by Fuel category 4:',AI_patch_poly_Fuel4['Area_Ha'].sum(), 'ha')\n",
    "print('Area covered by Fuel category 5:',AI_patch_poly_Fuel5['Area_Ha'].sum(), 'ha')\n",
    "\n",
    "# Here, the wildland area is estimated as the sum of the area covered by the five fuels\n",
    "Wildland_polygon = AI_patch_poly_Fuel1['Area_Ha'].sum() + AI_patch_poly_Fuel2['Area_Ha'].sum()+ AI_patch_poly_Fuel3['Area_Ha'].sum() + AI_patch_poly_Fuel4['Area_Ha'].sum() + AI_patch_poly_Fuel5['Area_Ha'].sum()\n",
    "print ('The wildland area is:', Wildland_polygon/1000000, 'Mha')"
   ]
  },
  {
   "cell_type": "code",
   "execution_count": null,
   "id": "8c5bfa32",
   "metadata": {},
   "outputs": [],
   "source": []
  }
 ],
 "metadata": {
  "kernelspec": {
   "display_name": "Python 3 (ipykernel)",
   "language": "python",
   "name": "python3"
  },
  "language_info": {
   "codemirror_mode": {
    "name": "ipython",
    "version": 3
   },
   "file_extension": ".py",
   "mimetype": "text/x-python",
   "name": "python",
   "nbconvert_exporter": "python",
   "pygments_lexer": "ipython3",
   "version": "3.9.16"
  }
 },
 "nbformat": 4,
 "nbformat_minor": 5
}
